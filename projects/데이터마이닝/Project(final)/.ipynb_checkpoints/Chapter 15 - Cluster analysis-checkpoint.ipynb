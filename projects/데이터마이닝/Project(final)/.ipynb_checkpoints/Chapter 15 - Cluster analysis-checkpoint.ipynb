{
 "cells": [
  {
   "cell_type": "markdown",
   "metadata": {},
   "source": [
    "# Chapter 15: Cluster Analysis\n",
    "\n",
    "> (c) 2019 Galit Shmueli, Peter C. Bruce, Peter Gedeck \n",
    ">\n",
    "> Code included in\n",
    ">\n",
    "> _Data Mining for Business Analytics: Concepts, Techniques, and Applications in Python_ (First Edition) \n",
    "> Galit Shmueli, Peter C. Bruce, Peter Gedeck, and Nitin R. Patel. 2019.\n",
    "\n",
    "## Import required packages"
   ]
  },
  {
   "cell_type": "code",
   "execution_count": 2,
   "metadata": {
    "execution": {
     "iopub.execute_input": "2021-05-27T20:03:28.294795Z",
     "iopub.status.busy": "2021-05-27T20:03:28.294322Z",
     "iopub.status.idle": "2021-05-27T20:03:29.161921Z",
     "shell.execute_reply": "2021-05-27T20:03:29.161426Z"
    }
   },
   "outputs": [],
   "source": [
    "from pathlib import Path\n",
    "\n",
    "import pandas as pd\n",
    "from sklearn import preprocessing\n",
    "from sklearn.metrics import pairwise\n",
    "from scipy.cluster.hierarchy import dendrogram, linkage, fcluster\n",
    "from sklearn.cluster import KMeans\n",
    "import matplotlib.pylab as plt\n",
    "import seaborn as sns\n",
    "from pandas.plotting import parallel_coordinates\n",
    "\n",
    "import dmba\n",
    "\n",
    "%matplotlib inline\n"
   ]
  },
  {
   "cell_type": "markdown",
   "metadata": {},
   "source": [
    "## Table 15.2\n",
    "Load the data, set row names (index) to the utilities column (company) and remove it. Convert all columns to `float`"
   ]
  },
  {
   "cell_type": "code",
   "execution_count": 3,
   "metadata": {
    "execution": {
     "iopub.execute_input": "2021-05-27T20:03:29.165994Z",
     "iopub.status.busy": "2021-05-27T20:03:29.165564Z",
     "iopub.status.idle": "2021-05-27T20:03:29.187732Z",
     "shell.execute_reply": "2021-05-27T20:03:29.187221Z"
    }
   },
   "outputs": [
    {
     "data": {
      "text/html": [
       "<div>\n",
       "<style scoped>\n",
       "    .dataframe tbody tr th:only-of-type {\n",
       "        vertical-align: middle;\n",
       "    }\n",
       "\n",
       "    .dataframe tbody tr th {\n",
       "        vertical-align: top;\n",
       "    }\n",
       "\n",
       "    .dataframe thead th {\n",
       "        text-align: right;\n",
       "    }\n",
       "</style>\n",
       "<table border=\"1\" class=\"dataframe\">\n",
       "  <thead>\n",
       "    <tr style=\"text-align: right;\">\n",
       "      <th></th>\n",
       "      <th>Fixed_charge</th>\n",
       "      <th>RoR</th>\n",
       "      <th>Cost</th>\n",
       "      <th>Load_factor</th>\n",
       "      <th>Demand_growth</th>\n",
       "      <th>Sales</th>\n",
       "      <th>Nuclear</th>\n",
       "      <th>Fuel_Cost</th>\n",
       "    </tr>\n",
       "    <tr>\n",
       "      <th>Company</th>\n",
       "      <th></th>\n",
       "      <th></th>\n",
       "      <th></th>\n",
       "      <th></th>\n",
       "      <th></th>\n",
       "      <th></th>\n",
       "      <th></th>\n",
       "      <th></th>\n",
       "    </tr>\n",
       "  </thead>\n",
       "  <tbody>\n",
       "    <tr>\n",
       "      <th>Arizona</th>\n",
       "      <td>1.06</td>\n",
       "      <td>9.2</td>\n",
       "      <td>151.0</td>\n",
       "      <td>54.4</td>\n",
       "      <td>1.6</td>\n",
       "      <td>9077.0</td>\n",
       "      <td>0.0</td>\n",
       "      <td>0.628</td>\n",
       "    </tr>\n",
       "    <tr>\n",
       "      <th>Boston</th>\n",
       "      <td>0.89</td>\n",
       "      <td>10.3</td>\n",
       "      <td>202.0</td>\n",
       "      <td>57.9</td>\n",
       "      <td>2.2</td>\n",
       "      <td>5088.0</td>\n",
       "      <td>25.3</td>\n",
       "      <td>1.555</td>\n",
       "    </tr>\n",
       "    <tr>\n",
       "      <th>Central</th>\n",
       "      <td>1.43</td>\n",
       "      <td>15.4</td>\n",
       "      <td>113.0</td>\n",
       "      <td>53.0</td>\n",
       "      <td>3.4</td>\n",
       "      <td>9212.0</td>\n",
       "      <td>0.0</td>\n",
       "      <td>1.058</td>\n",
       "    </tr>\n",
       "    <tr>\n",
       "      <th>Commonwealth</th>\n",
       "      <td>1.02</td>\n",
       "      <td>11.2</td>\n",
       "      <td>168.0</td>\n",
       "      <td>56.0</td>\n",
       "      <td>0.3</td>\n",
       "      <td>6423.0</td>\n",
       "      <td>34.3</td>\n",
       "      <td>0.700</td>\n",
       "    </tr>\n",
       "    <tr>\n",
       "      <th>NY</th>\n",
       "      <td>1.49</td>\n",
       "      <td>8.8</td>\n",
       "      <td>192.0</td>\n",
       "      <td>51.2</td>\n",
       "      <td>1.0</td>\n",
       "      <td>3300.0</td>\n",
       "      <td>15.6</td>\n",
       "      <td>2.044</td>\n",
       "    </tr>\n",
       "  </tbody>\n",
       "</table>\n",
       "</div>"
      ],
      "text/plain": [
       "              Fixed_charge   RoR   Cost  Load_factor  Demand_growth   Sales  \\\n",
       "Company                                                                       \n",
       "Arizona               1.06   9.2  151.0         54.4            1.6  9077.0   \n",
       "Boston                0.89  10.3  202.0         57.9            2.2  5088.0   \n",
       "Central               1.43  15.4  113.0         53.0            3.4  9212.0   \n",
       "Commonwealth          1.02  11.2  168.0         56.0            0.3  6423.0   \n",
       "NY                    1.49   8.8  192.0         51.2            1.0  3300.0   \n",
       "\n",
       "              Nuclear  Fuel_Cost  \n",
       "Company                           \n",
       "Arizona           0.0      0.628  \n",
       "Boston           25.3      1.555  \n",
       "Central           0.0      1.058  \n",
       "Commonwealth     34.3      0.700  \n",
       "NY               15.6      2.044  "
      ]
     },
     "execution_count": 3,
     "metadata": {},
     "output_type": "execute_result"
    }
   ],
   "source": [
    "utilities_df = dmba.load_data('Utilities.csv')\n",
    "utilities_df.set_index('Company', inplace=True)\n",
    "\n",
    "# while not required, the conversion of integer data to float will avoid a warning when \n",
    "# applying the scale function\n",
    "utilities_df = utilities_df.apply(lambda x: x.astype('float64'))\n",
    "utilities_df.head()"
   ]
  },
  {
   "cell_type": "markdown",
   "metadata": {},
   "source": [
    "Compute Euclidean distance matrix (to compute other metrics, change the name of `metric` argument)"
   ]
  },
  {
   "cell_type": "code",
   "execution_count": 4,
   "metadata": {
    "execution": {
     "iopub.execute_input": "2021-05-27T20:03:29.198779Z",
     "iopub.status.busy": "2021-05-27T20:03:29.198315Z",
     "iopub.status.idle": "2021-05-27T20:03:29.211040Z",
     "shell.execute_reply": "2021-05-27T20:03:29.210585Z"
    }
   },
   "outputs": [
    {
     "data": {
      "text/html": [
       "<div>\n",
       "<style scoped>\n",
       "    .dataframe tbody tr th:only-of-type {\n",
       "        vertical-align: middle;\n",
       "    }\n",
       "\n",
       "    .dataframe tbody tr th {\n",
       "        vertical-align: top;\n",
       "    }\n",
       "\n",
       "    .dataframe thead th {\n",
       "        text-align: right;\n",
       "    }\n",
       "</style>\n",
       "<table border=\"1\" class=\"dataframe\">\n",
       "  <thead>\n",
       "    <tr style=\"text-align: right;\">\n",
       "      <th>Company</th>\n",
       "      <th>Arizona</th>\n",
       "      <th>Boston</th>\n",
       "      <th>Central</th>\n",
       "      <th>Commonwealth</th>\n",
       "      <th>NY</th>\n",
       "      <th>Florida</th>\n",
       "      <th>Hawaiian</th>\n",
       "      <th>Idaho</th>\n",
       "      <th>Kentucky</th>\n",
       "      <th>Madison</th>\n",
       "      <th>...</th>\n",
       "      <th>Northern</th>\n",
       "      <th>Oklahoma</th>\n",
       "      <th>Pacific</th>\n",
       "      <th>Puget</th>\n",
       "      <th>San Diego</th>\n",
       "      <th>Southern</th>\n",
       "      <th>Texas</th>\n",
       "      <th>Wisconsin</th>\n",
       "      <th>United</th>\n",
       "      <th>Virginia</th>\n",
       "    </tr>\n",
       "    <tr>\n",
       "      <th>Company</th>\n",
       "      <th></th>\n",
       "      <th></th>\n",
       "      <th></th>\n",
       "      <th></th>\n",
       "      <th></th>\n",
       "      <th></th>\n",
       "      <th></th>\n",
       "      <th></th>\n",
       "      <th></th>\n",
       "      <th></th>\n",
       "      <th></th>\n",
       "      <th></th>\n",
       "      <th></th>\n",
       "      <th></th>\n",
       "      <th></th>\n",
       "      <th></th>\n",
       "      <th></th>\n",
       "      <th></th>\n",
       "      <th></th>\n",
       "      <th></th>\n",
       "      <th></th>\n",
       "    </tr>\n",
       "  </thead>\n",
       "  <tbody>\n",
       "    <tr>\n",
       "      <th>Arizona</th>\n",
       "      <td>0.000000</td>\n",
       "      <td>3989.408076</td>\n",
       "      <td>140.402855</td>\n",
       "      <td>2654.277632</td>\n",
       "      <td>5777.167672</td>\n",
       "      <td>2050.529440</td>\n",
       "      <td>1435.265019</td>\n",
       "      <td>4006.104187</td>\n",
       "      <td>671.276346</td>\n",
       "      <td>2622.699002</td>\n",
       "      <td>...</td>\n",
       "      <td>1899.279821</td>\n",
       "      <td>598.556633</td>\n",
       "      <td>2609.045363</td>\n",
       "      <td>6914.742065</td>\n",
       "      <td>3363.061626</td>\n",
       "      <td>1063.009074</td>\n",
       "      <td>4430.251585</td>\n",
       "      <td>1790.485648</td>\n",
       "      <td>2427.588875</td>\n",
       "      <td>1016.617691</td>\n",
       "    </tr>\n",
       "    <tr>\n",
       "      <th>Boston</th>\n",
       "      <td>3989.408076</td>\n",
       "      <td>0.000000</td>\n",
       "      <td>4125.044132</td>\n",
       "      <td>1335.466502</td>\n",
       "      <td>1788.068027</td>\n",
       "      <td>6039.689076</td>\n",
       "      <td>2554.287162</td>\n",
       "      <td>7994.155985</td>\n",
       "      <td>3318.276558</td>\n",
       "      <td>1367.090634</td>\n",
       "      <td>...</td>\n",
       "      <td>2091.160485</td>\n",
       "      <td>4586.302564</td>\n",
       "      <td>1380.749962</td>\n",
       "      <td>10903.146464</td>\n",
       "      <td>629.760748</td>\n",
       "      <td>5052.331669</td>\n",
       "      <td>8419.610541</td>\n",
       "      <td>2199.721665</td>\n",
       "      <td>1562.210811</td>\n",
       "      <td>5005.081262</td>\n",
       "    </tr>\n",
       "    <tr>\n",
       "      <th>Central</th>\n",
       "      <td>140.402855</td>\n",
       "      <td>4125.044132</td>\n",
       "      <td>0.000000</td>\n",
       "      <td>2789.759674</td>\n",
       "      <td>5912.552908</td>\n",
       "      <td>1915.155154</td>\n",
       "      <td>1571.295401</td>\n",
       "      <td>3872.257626</td>\n",
       "      <td>807.920792</td>\n",
       "      <td>2758.559663</td>\n",
       "      <td>...</td>\n",
       "      <td>2035.441520</td>\n",
       "      <td>461.341670</td>\n",
       "      <td>2744.502847</td>\n",
       "      <td>6780.430307</td>\n",
       "      <td>3498.113013</td>\n",
       "      <td>928.749249</td>\n",
       "      <td>4295.014690</td>\n",
       "      <td>1925.772564</td>\n",
       "      <td>2563.637362</td>\n",
       "      <td>883.535455</td>\n",
       "    </tr>\n",
       "    <tr>\n",
       "      <th>Commonwealth</th>\n",
       "      <td>2654.277632</td>\n",
       "      <td>1335.466502</td>\n",
       "      <td>2789.759674</td>\n",
       "      <td>0.000000</td>\n",
       "      <td>3123.153215</td>\n",
       "      <td>4704.363099</td>\n",
       "      <td>1219.560005</td>\n",
       "      <td>6659.534567</td>\n",
       "      <td>1983.314354</td>\n",
       "      <td>43.648894</td>\n",
       "      <td>...</td>\n",
       "      <td>756.831954</td>\n",
       "      <td>3250.984589</td>\n",
       "      <td>56.644626</td>\n",
       "      <td>9568.434429</td>\n",
       "      <td>710.292965</td>\n",
       "      <td>3717.202963</td>\n",
       "      <td>7084.372839</td>\n",
       "      <td>864.273153</td>\n",
       "      <td>232.476871</td>\n",
       "      <td>3670.018191</td>\n",
       "    </tr>\n",
       "    <tr>\n",
       "      <th>NY</th>\n",
       "      <td>5777.167672</td>\n",
       "      <td>1788.068027</td>\n",
       "      <td>5912.552908</td>\n",
       "      <td>3123.153215</td>\n",
       "      <td>0.000000</td>\n",
       "      <td>7827.429211</td>\n",
       "      <td>4342.093798</td>\n",
       "      <td>9782.158178</td>\n",
       "      <td>5106.094153</td>\n",
       "      <td>3155.095594</td>\n",
       "      <td>...</td>\n",
       "      <td>3879.167462</td>\n",
       "      <td>6373.743249</td>\n",
       "      <td>3168.177463</td>\n",
       "      <td>12691.155108</td>\n",
       "      <td>2414.698757</td>\n",
       "      <td>6840.150291</td>\n",
       "      <td>10207.392630</td>\n",
       "      <td>3987.335962</td>\n",
       "      <td>3350.073118</td>\n",
       "      <td>6793.035300</td>\n",
       "    </tr>\n",
       "  </tbody>\n",
       "</table>\n",
       "<p>5 rows × 22 columns</p>\n",
       "</div>"
      ],
      "text/plain": [
       "Company          Arizona       Boston      Central   Commonwealth  \\\n",
       "Company                                                             \n",
       "Arizona          0.000000  3989.408076   140.402855   2654.277632   \n",
       "Boston        3989.408076     0.000000  4125.044132   1335.466502   \n",
       "Central        140.402855  4125.044132     0.000000   2789.759674   \n",
       "Commonwealth  2654.277632  1335.466502  2789.759674      0.000000   \n",
       "NY            5777.167672  1788.068027  5912.552908   3123.153215   \n",
       "\n",
       "Company                NY     Florida     Hawaiian         Idaho     Kentucky  \\\n",
       "Company                                                                         \n",
       "Arizona       5777.167672  2050.529440  1435.265019  4006.104187   671.276346   \n",
       "Boston        1788.068027  6039.689076  2554.287162  7994.155985  3318.276558   \n",
       "Central       5912.552908  1915.155154  1571.295401  3872.257626   807.920792   \n",
       "Commonwealth  3123.153215  4704.363099  1219.560005  6659.534567  1983.314354   \n",
       "NY               0.000000  7827.429211  4342.093798  9782.158178  5106.094153   \n",
       "\n",
       "Company          Madison   ...     Northern     Oklahoma     Pacific   \\\n",
       "Company                    ...                                          \n",
       "Arizona       2622.699002  ...  1899.279821   598.556633  2609.045363   \n",
       "Boston        1367.090634  ...  2091.160485  4586.302564  1380.749962   \n",
       "Central       2758.559663  ...  2035.441520   461.341670  2744.502847   \n",
       "Commonwealth    43.648894  ...   756.831954  3250.984589    56.644626   \n",
       "NY            3155.095594  ...  3879.167462  6373.743249  3168.177463   \n",
       "\n",
       "Company              Puget    San Diego     Southern         Texas  \\\n",
       "Company                                                              \n",
       "Arizona        6914.742065  3363.061626  1063.009074   4430.251585   \n",
       "Boston        10903.146464   629.760748  5052.331669   8419.610541   \n",
       "Central        6780.430307  3498.113013   928.749249   4295.014690   \n",
       "Commonwealth   9568.434429   710.292965  3717.202963   7084.372839   \n",
       "NY            12691.155108  2414.698757  6840.150291  10207.392630   \n",
       "\n",
       "Company         Wisconsin       United     Virginia  \n",
       "Company                                              \n",
       "Arizona       1790.485648  2427.588875  1016.617691  \n",
       "Boston        2199.721665  1562.210811  5005.081262  \n",
       "Central       1925.772564  2563.637362   883.535455  \n",
       "Commonwealth   864.273153   232.476871  3670.018191  \n",
       "NY            3987.335962  3350.073118  6793.035300  \n",
       "\n",
       "[5 rows x 22 columns]"
      ]
     },
     "execution_count": 4,
     "metadata": {},
     "output_type": "execute_result"
    }
   ],
   "source": [
    "d = pairwise.pairwise_distances(utilities_df, metric='euclidean')\n",
    "pd.DataFrame(d, columns=utilities_df.index, index=utilities_df.index).head(5)"
   ]
  },
  {
   "cell_type": "markdown",
   "metadata": {},
   "source": [
    "## Table 15.4\n",
    "Here are two ways to normalize the input variables. Pandas calculates by default the sample standard deviation, whereas scikit-learn uses the population standard deviation. The normalized data from the two methods will therefore differ slightly. We will use the Pandas approach as it is equivalent to the R implementation of scale."
   ]
  },
  {
   "cell_type": "code",
   "execution_count": 13,
   "metadata": {
    "execution": {
     "iopub.execute_input": "2021-05-27T20:03:29.222171Z",
     "iopub.status.busy": "2021-05-27T20:03:29.221470Z",
     "iopub.status.idle": "2021-05-27T20:03:29.243933Z",
     "shell.execute_reply": "2021-05-27T20:03:29.243521Z"
    }
   },
   "outputs": [
    {
     "data": {
      "text/html": [
       "<div>\n",
       "<style scoped>\n",
       "    .dataframe tbody tr th:only-of-type {\n",
       "        vertical-align: middle;\n",
       "    }\n",
       "\n",
       "    .dataframe tbody tr th {\n",
       "        vertical-align: top;\n",
       "    }\n",
       "\n",
       "    .dataframe thead th {\n",
       "        text-align: right;\n",
       "    }\n",
       "</style>\n",
       "<table border=\"1\" class=\"dataframe\">\n",
       "  <thead>\n",
       "    <tr style=\"text-align: right;\">\n",
       "      <th>Company</th>\n",
       "      <th>Arizona</th>\n",
       "      <th>Boston</th>\n",
       "      <th>Central</th>\n",
       "      <th>Commonwealth</th>\n",
       "      <th>NY</th>\n",
       "      <th>Florida</th>\n",
       "      <th>Hawaiian</th>\n",
       "      <th>Idaho</th>\n",
       "      <th>Kentucky</th>\n",
       "      <th>Madison</th>\n",
       "      <th>...</th>\n",
       "      <th>Northern</th>\n",
       "      <th>Oklahoma</th>\n",
       "      <th>Pacific</th>\n",
       "      <th>Puget</th>\n",
       "      <th>San Diego</th>\n",
       "      <th>Southern</th>\n",
       "      <th>Texas</th>\n",
       "      <th>Wisconsin</th>\n",
       "      <th>United</th>\n",
       "      <th>Virginia</th>\n",
       "    </tr>\n",
       "    <tr>\n",
       "      <th>Company</th>\n",
       "      <th></th>\n",
       "      <th></th>\n",
       "      <th></th>\n",
       "      <th></th>\n",
       "      <th></th>\n",
       "      <th></th>\n",
       "      <th></th>\n",
       "      <th></th>\n",
       "      <th></th>\n",
       "      <th></th>\n",
       "      <th></th>\n",
       "      <th></th>\n",
       "      <th></th>\n",
       "      <th></th>\n",
       "      <th></th>\n",
       "      <th></th>\n",
       "      <th></th>\n",
       "      <th></th>\n",
       "      <th></th>\n",
       "      <th></th>\n",
       "      <th></th>\n",
       "    </tr>\n",
       "  </thead>\n",
       "  <tbody>\n",
       "    <tr>\n",
       "      <th>Arizona</th>\n",
       "      <td>0.000000</td>\n",
       "      <td>2.010329</td>\n",
       "      <td>0.774179</td>\n",
       "      <td>0.758738</td>\n",
       "      <td>3.021907</td>\n",
       "      <td>1.244422</td>\n",
       "      <td>1.885248</td>\n",
       "      <td>1.265638</td>\n",
       "      <td>0.461292</td>\n",
       "      <td>0.738650</td>\n",
       "      <td>...</td>\n",
       "      <td>0.564657</td>\n",
       "      <td>0.182648</td>\n",
       "      <td>1.570780</td>\n",
       "      <td>1.947668</td>\n",
       "      <td>2.509043</td>\n",
       "      <td>0.913621</td>\n",
       "      <td>1.247976</td>\n",
       "      <td>0.521491</td>\n",
       "      <td>2.761745</td>\n",
       "      <td>1.252350</td>\n",
       "    </tr>\n",
       "    <tr>\n",
       "      <th>Boston</th>\n",
       "      <td>2.010329</td>\n",
       "      <td>0.000000</td>\n",
       "      <td>1.465703</td>\n",
       "      <td>1.582821</td>\n",
       "      <td>1.013370</td>\n",
       "      <td>1.792397</td>\n",
       "      <td>0.740283</td>\n",
       "      <td>3.176654</td>\n",
       "      <td>1.557738</td>\n",
       "      <td>1.719632</td>\n",
       "      <td>...</td>\n",
       "      <td>1.940166</td>\n",
       "      <td>2.166078</td>\n",
       "      <td>0.478334</td>\n",
       "      <td>3.501390</td>\n",
       "      <td>0.679634</td>\n",
       "      <td>1.634425</td>\n",
       "      <td>2.890560</td>\n",
       "      <td>1.654255</td>\n",
       "      <td>1.100595</td>\n",
       "      <td>1.479261</td>\n",
       "    </tr>\n",
       "    <tr>\n",
       "      <th>Central</th>\n",
       "      <td>0.774179</td>\n",
       "      <td>1.465703</td>\n",
       "      <td>0.000000</td>\n",
       "      <td>1.015710</td>\n",
       "      <td>2.432528</td>\n",
       "      <td>0.631892</td>\n",
       "      <td>1.156092</td>\n",
       "      <td>1.732777</td>\n",
       "      <td>0.419254</td>\n",
       "      <td>1.102287</td>\n",
       "      <td>...</td>\n",
       "      <td>1.113433</td>\n",
       "      <td>0.855093</td>\n",
       "      <td>0.987772</td>\n",
       "      <td>2.065643</td>\n",
       "      <td>1.836762</td>\n",
       "      <td>0.276440</td>\n",
       "      <td>1.428159</td>\n",
       "      <td>0.838967</td>\n",
       "      <td>2.034824</td>\n",
       "      <td>0.510365</td>\n",
       "    </tr>\n",
       "    <tr>\n",
       "      <th>Commonwealth</th>\n",
       "      <td>0.758738</td>\n",
       "      <td>1.582821</td>\n",
       "      <td>1.015710</td>\n",
       "      <td>0.000000</td>\n",
       "      <td>2.571969</td>\n",
       "      <td>1.643857</td>\n",
       "      <td>1.746027</td>\n",
       "      <td>2.003230</td>\n",
       "      <td>0.629994</td>\n",
       "      <td>0.138758</td>\n",
       "      <td>...</td>\n",
       "      <td>0.377004</td>\n",
       "      <td>0.937389</td>\n",
       "      <td>1.258835</td>\n",
       "      <td>2.699060</td>\n",
       "      <td>2.202930</td>\n",
       "      <td>1.278514</td>\n",
       "      <td>1.998818</td>\n",
       "      <td>0.243408</td>\n",
       "      <td>2.547116</td>\n",
       "      <td>1.502093</td>\n",
       "    </tr>\n",
       "    <tr>\n",
       "      <th>NY</th>\n",
       "      <td>3.021907</td>\n",
       "      <td>1.013370</td>\n",
       "      <td>2.432528</td>\n",
       "      <td>2.571969</td>\n",
       "      <td>0.000000</td>\n",
       "      <td>2.635573</td>\n",
       "      <td>1.411695</td>\n",
       "      <td>4.162561</td>\n",
       "      <td>2.566439</td>\n",
       "      <td>2.705445</td>\n",
       "      <td>...</td>\n",
       "      <td>2.938637</td>\n",
       "      <td>3.174588</td>\n",
       "      <td>1.462019</td>\n",
       "      <td>4.397433</td>\n",
       "      <td>0.715629</td>\n",
       "      <td>2.558409</td>\n",
       "      <td>3.831132</td>\n",
       "      <td>2.661786</td>\n",
       "      <td>0.952507</td>\n",
       "      <td>2.328691</td>\n",
       "    </tr>\n",
       "  </tbody>\n",
       "</table>\n",
       "<p>5 rows × 22 columns</p>\n",
       "</div>"
      ],
      "text/plain": [
       "Company       Arizona    Boston   Central   Commonwealth        NY  Florida   \\\n",
       "Company                                                                        \n",
       "Arizona       0.000000  2.010329  0.774179      0.758738  3.021907  1.244422   \n",
       "Boston        2.010329  0.000000  1.465703      1.582821  1.013370  1.792397   \n",
       "Central       0.774179  1.465703  0.000000      1.015710  2.432528  0.631892   \n",
       "Commonwealth  0.758738  1.582821  1.015710      0.000000  2.571969  1.643857   \n",
       "NY            3.021907  1.013370  2.432528      2.571969  0.000000  2.635573   \n",
       "\n",
       "Company       Hawaiian      Idaho  Kentucky  Madison   ...  Northern  \\\n",
       "Company                                                ...             \n",
       "Arizona        1.885248  1.265638  0.461292  0.738650  ...  0.564657   \n",
       "Boston         0.740283  3.176654  1.557738  1.719632  ...  1.940166   \n",
       "Central        1.156092  1.732777  0.419254  1.102287  ...  1.113433   \n",
       "Commonwealth   1.746027  2.003230  0.629994  0.138758  ...  0.377004   \n",
       "NY             1.411695  4.162561  2.566439  2.705445  ...  2.938637   \n",
       "\n",
       "Company       Oklahoma  Pacific      Puget  San Diego  Southern     Texas  \\\n",
       "Company                                                                     \n",
       "Arizona       0.182648  1.570780  1.947668   2.509043  0.913621  1.247976   \n",
       "Boston        2.166078  0.478334  3.501390   0.679634  1.634425  2.890560   \n",
       "Central       0.855093  0.987772  2.065643   1.836762  0.276440  1.428159   \n",
       "Commonwealth  0.937389  1.258835  2.699060   2.202930  1.278514  1.998818   \n",
       "NY            3.174588  1.462019  4.397433   0.715629  2.558409  3.831132   \n",
       "\n",
       "Company       Wisconsin    United  Virginia  \n",
       "Company                                      \n",
       "Arizona        0.521491  2.761745  1.252350  \n",
       "Boston         1.654255  1.100595  1.479261  \n",
       "Central        0.838967  2.034824  0.510365  \n",
       "Commonwealth   0.243408  2.547116  1.502093  \n",
       "NY             2.661786  0.952507  2.328691  \n",
       "\n",
       "[5 rows x 22 columns]"
      ]
     },
     "execution_count": 13,
     "metadata": {},
     "output_type": "execute_result"
    }
   ],
   "source": [
    "# scikit-learn uses population standard deviation\n",
    "utilities_df_norm = utilities_df.apply(preprocessing.scale, axis=0)\n",
    "\n",
    "# pandas uses sample standard deviation\n",
    "utilities_df_norm = (utilities_df - utilities_df.mean())/utilities_df.std()\n",
    "\n",
    "# compute normalized distance based on Sales and Fuel Cost\n",
    "d_norm = pairwise.pairwise_distances(utilities_df_norm[['Sales', 'Fuel_Cost']], \n",
    "                                     metric='euclidean')\n",
    "pd.DataFrame(d_norm, columns=utilities_df.index, index=utilities_df.index).head(5)"
   ]
  },
  {
   "cell_type": "markdown",
   "metadata": {},
   "source": [
    "## Figure 15.3\n"
   ]
  },
  {
   "cell_type": "code",
   "execution_count": 45,
   "metadata": {
    "execution": {
     "iopub.execute_input": "2021-05-27T20:03:29.298077Z",
     "iopub.status.busy": "2021-05-27T20:03:29.260198Z",
     "iopub.status.idle": "2021-05-27T20:03:29.607823Z",
     "shell.execute_reply": "2021-05-27T20:03:29.607403Z"
    },
    "scrolled": false
   },
   "outputs": [
    {
     "data": {
      "image/png": "[encoded data removed]",
      "text/plain": [
       "<Figure size 720x432 with 1 Axes>"
      ]
     },
     "metadata": {
      "needs_background": "light"
     },
     "output_type": "display_data"
    }
   ],
   "source": [
    "Z = linkage(utilities_df_norm, method='single')\n",
    "\n",
    "fig = plt.figure(figsize=(10, 6))\n",
    "fig.subplots_adjust(bottom=0.23)\n",
    "plt.title('Hierarchical Clustering Dendrogram (Single linkage)')\n",
    "plt.xlabel('Company')\n",
    "dendrogram(Z, labels=utilities_df_norm.index, color_threshold=2.7)\n",
    "plt.axhline(y=2.7, color='black', linewidth=0.5, linestyle='dashed')\n",
    "plt.show()"
   ]
  },
  {
   "cell_type": "code",
   "execution_count": 46,
   "metadata": {
    "execution": {
     "iopub.execute_input": "2021-05-27T20:03:29.649002Z",
     "iopub.status.busy": "2021-05-27T20:03:29.641749Z",
     "iopub.status.idle": "2021-05-27T20:03:29.931982Z",
     "shell.execute_reply": "2021-05-27T20:03:29.932339Z"
    }
   },
   "outputs": [
    {
     "data": {
      "image/png": "[encoded data removed]",
      "text/plain": [
       "<Figure size 720x432 with 1 Axes>"
      ]
     },
     "metadata": {
      "needs_background": "light"
     },
     "output_type": "display_data"
    }
   ],
   "source": [
    "Z = linkage(utilities_df_norm, method='average')\n",
    "\n",
    "fig = plt.figure(figsize=(10, 6))\n",
    "fig.subplots_adjust(bottom=0.23)\n",
    "plt.title('Hierarchical Clustering Dendrogram (Average linkage)')\n",
    "plt.xlabel('Company')\n",
    "dendrogram(Z, labels=utilities_df_norm.index, color_threshold=3.6)\n",
    "plt.axhline(y=3.6, color='black', linewidth=0.5, linestyle='dashed')\n",
    "plt.show()"
   ]
  },
  {
   "cell_type": "markdown",
   "metadata": {},
   "source": [
    "## Table 15.6"
   ]
  },
  {
   "cell_type": "code",
   "execution_count": 47,
   "metadata": {
    "execution": {
     "iopub.execute_input": "2021-05-27T20:03:29.936351Z",
     "iopub.status.busy": "2021-05-27T20:03:29.935940Z",
     "iopub.status.idle": "2021-05-27T20:03:29.943268Z",
     "shell.execute_reply": "2021-05-27T20:03:29.942921Z"
    }
   },
   "outputs": [
    {
     "name": "stdout",
     "output_type": "stream",
     "text": [
      "1 :  Idaho, Puget\n",
      "2 :  Arizona , Boston , Commonwealth, Florida , Hawaiian , Kentucky, Madison , New England, Northern, Oklahoma, Pacific , Southern, Texas, Wisconsin, United, Virginia\n",
      "3 :  Central \n",
      "4 :  San Diego\n",
      "5 :  Nevada\n",
      "6 :  NY\n"
     ]
    }
   ],
   "source": [
    "memb = fcluster(linkage(utilities_df_norm, 'single'), 6, criterion='maxclust')\n",
    "memb = pd.Series(memb, index=utilities_df_norm.index)\n",
    "for key, item in memb.groupby(memb):\n",
    "    print(key, ': ', ', '.join(item.index))"
   ]
  },
  {
   "cell_type": "code",
   "execution_count": 48,
   "metadata": {
    "execution": {
     "iopub.execute_input": "2021-05-27T20:03:29.948749Z",
     "iopub.status.busy": "2021-05-27T20:03:29.948262Z",
     "iopub.status.idle": "2021-05-27T20:03:29.952135Z",
     "shell.execute_reply": "2021-05-27T20:03:29.952456Z"
    }
   },
   "outputs": [
    {
     "name": "stdout",
     "output_type": "stream",
     "text": [
      "1 :  Idaho, Nevada, Puget\n",
      "2 :  Hawaiian , New England, Pacific , United\n",
      "3 :  San Diego\n",
      "4 :  Boston , Commonwealth, Madison , Northern, Wisconsin, Virginia\n",
      "5 :  Arizona , Central , Florida , Kentucky, Oklahoma, Southern, Texas\n",
      "6 :  NY\n"
     ]
    }
   ],
   "source": [
    "memb = fcluster(linkage(utilities_df_norm, 'average'), 6, criterion='maxclust')\n",
    "memb = pd.Series(memb, index=utilities_df_norm.index)\n",
    "for key, item in memb.groupby(memb):\n",
    "    print(key, ': ', ', '.join(item.index))"
   ]
  },
  {
   "cell_type": "markdown",
   "metadata": {},
   "source": [
    "## Figure 15.4"
   ]
  },
  {
   "cell_type": "code",
   "execution_count": 9,
   "metadata": {
    "execution": {
     "iopub.execute_input": "2021-05-27T20:03:29.968416Z",
     "iopub.status.busy": "2021-05-27T20:03:29.967969Z",
     "iopub.status.idle": "2021-05-27T20:03:30.575029Z",
     "shell.execute_reply": "2021-05-27T20:03:30.574550Z"
    }
   },
   "outputs": [
    {
     "data": {
      "image/png": "[encoded data removed]",
      "text/plain": [
       "<Figure size 720x720 with 4 Axes>"
      ]
     },
     "metadata": {
      "needs_background": "light"
     },
     "output_type": "display_data"
    }
   ],
   "source": [
    "utilities_df_norm.index = ['{}: {}'.format(cluster, state) for cluster, state in zip(memb, utilities_df_norm.index)]\n",
    "sns.clustermap(utilities_df_norm, method='average', col_cluster=False,  cmap=\"mako_r\")\n",
    "plt.show()"
   ]
  },
  {
   "cell_type": "markdown",
   "metadata": {},
   "source": [
    "## Figure 15.9"
   ]
  },
  {
   "cell_type": "code",
   "execution_count": 10,
   "metadata": {
    "execution": {
     "iopub.execute_input": "2021-05-27T20:03:30.593466Z",
     "iopub.status.busy": "2021-05-27T20:03:30.580222Z",
     "iopub.status.idle": "2021-05-27T20:03:30.623000Z",
     "shell.execute_reply": "2021-05-27T20:03:30.622599Z"
    }
   },
   "outputs": [
    {
     "name": "stdout",
     "output_type": "stream",
     "text": [
      "0 :  Commonwealth, Madison , Northern, Wisconsin, Virginia\n",
      "1 :  Boston , Hawaiian , New England, Pacific , San Diego, United\n",
      "2 :  Arizona , Central , Florida , Kentucky, Oklahoma, Southern, Texas\n",
      "3 :  NY\n",
      "4 :  Nevada\n",
      "5 :  Idaho, Puget\n"
     ]
    }
   ],
   "source": [
    "# Load and preprocess data\n",
    "utilities_df = dmba.load_data('Utilities.csv')\n",
    "utilities_df.set_index('Company', inplace=True)\n",
    "utilities_df = utilities_df.apply(lambda x: x.astype('float64'))\n",
    "\n",
    "# Normalized distance\n",
    "utilities_df_norm = utilities_df.apply(preprocessing.scale, axis=0)\n",
    "\n",
    "kmeans = KMeans(n_clusters=6, random_state=0).fit(utilities_df_norm)\n",
    "\n",
    "# Cluster membership\n",
    "memb = pd.Series(kmeans.labels_, index=utilities_df_norm.index)\n",
    "for key, item in memb.groupby(memb):\n",
    "    print(key, ': ', ', '.join(item.index))"
   ]
  },
  {
   "cell_type": "markdown",
   "metadata": {},
   "source": [
    "## Table 15.10"
   ]
  },
  {
   "cell_type": "code",
   "execution_count": 11,
   "metadata": {
    "execution": {
     "iopub.execute_input": "2021-05-27T20:03:30.630835Z",
     "iopub.status.busy": "2021-05-27T20:03:30.630283Z",
     "iopub.status.idle": "2021-05-27T20:03:30.633798Z",
     "shell.execute_reply": "2021-05-27T20:03:30.633289Z"
    }
   },
   "outputs": [
    {
     "name": "stdout",
     "output_type": "stream",
     "text": [
      "   Fixed_charge    RoR   Cost  Load_factor  Demand_growth  Sales  Nuclear  \\\n",
      "0        -0.012  0.339  0.224       -0.366          0.170 -0.411    1.602   \n",
      "1        -0.633 -0.640  0.207        1.175          0.058 -0.758   -0.381   \n",
      "2         0.516  0.798 -1.009       -0.345         -0.501  0.360   -0.536   \n",
      "3         2.085 -0.883  0.592       -1.325         -0.736 -1.619    0.219   \n",
      "4        -2.020 -1.476  0.120       -1.257          1.070  2.458   -0.731   \n",
      "5         0.088 -0.541  1.996       -0.110          0.988  1.621   -0.731   \n",
      "\n",
      "   Fuel_Cost  \n",
      "0     -0.609  \n",
      "1      1.204  \n",
      "2     -0.420  \n",
      "3      1.732  \n",
      "4     -0.616  \n",
      "5     -1.175  \n"
     ]
    }
   ],
   "source": [
    "centroids = pd.DataFrame(kmeans.cluster_centers_, columns=utilities_df_norm.columns)\n",
    "pd.set_option('precision', 3)\n",
    "print(centroids)\n",
    "pd.set_option('precision', 6)"
   ]
  },
  {
   "cell_type": "code",
   "execution_count": 12,
   "metadata": {
    "execution": {
     "iopub.execute_input": "2021-05-27T20:03:30.639710Z",
     "iopub.status.busy": "2021-05-27T20:03:30.639230Z",
     "iopub.status.idle": "2021-05-27T20:03:30.642223Z",
     "shell.execute_reply": "2021-05-27T20:03:30.642564Z"
    }
   },
   "outputs": [
    {
     "name": "stdout",
     "output_type": "stream",
     "text": [
      "Cluster 0 (5 members): 10.66 within cluster\n",
      "Cluster 1 (6 members): 22.20 within cluster\n",
      "Cluster 2 (7 members): 27.77 within cluster\n",
      "Cluster 3 (1 members):  0.00 within cluster\n",
      "Cluster 4 (1 members):  0.00 within cluster\n",
      "Cluster 5 (2 members):  2.54 within cluster\n"
     ]
    }
   ],
   "source": [
    "withinClusterSS = [0] * 6\n",
    "clusterCount = [0] * 6\n",
    "for cluster, distance in zip(kmeans.labels_, kmeans.transform(utilities_df_norm)):\n",
    "    withinClusterSS[cluster] += distance[cluster]**2\n",
    "    clusterCount[cluster] += 1\n",
    "for cluster, withClustSS in enumerate(withinClusterSS):\n",
    "    print('Cluster {} ({} members): {:5.2f} within cluster'.format(cluster, \n",
    "        clusterCount[cluster], withinClusterSS[cluster]))"
   ]
  },
  {
   "cell_type": "code",
   "execution_count": 13,
   "metadata": {
    "execution": {
     "iopub.execute_input": "2021-05-27T20:03:30.652558Z",
     "iopub.status.busy": "2021-05-27T20:03:30.652108Z",
     "iopub.status.idle": "2021-05-27T20:03:30.655084Z",
     "shell.execute_reply": "2021-05-27T20:03:30.654620Z"
    }
   },
   "outputs": [
    {
     "name": "stdout",
     "output_type": "stream",
     "text": [
      "Cluster 0 (5 members): 10.66 within cluster \n",
      "Cluster 1 (6 members): 22.20 within cluster \n",
      "Cluster 2 (7 members): 27.77 within cluster \n",
      "Cluster 3 (1 members): 0.00 within cluster \n",
      "Cluster 4 (1 members): 0.00 within cluster \n",
      "Cluster 5 (2 members): 2.54 within cluster \n"
     ]
    }
   ],
   "source": [
    "# calculate the distances of each data point to the cluster centers\n",
    "distances = kmeans.transform(utilities_df_norm)\n",
    "\n",
    "# reduce to the minimum squared distance of each data point to the cluster centers\n",
    "minSquaredDistances = distances.min(axis=1) ** 2\n",
    "\n",
    "# combine with cluster labels into a data frame\n",
    "df = pd.DataFrame({'squaredDistance': minSquaredDistances, 'cluster': kmeans.labels_}, \n",
    "    index=utilities_df_norm.index)\n",
    "\n",
    "# Group by cluster and print information\n",
    "for cluster, data in df.groupby('cluster'):\n",
    "    count = len(data)\n",
    "    withinClustSS = data.squaredDistance.sum()\n",
    "    print(f'Cluster {cluster} ({count} members): {withinClustSS:.2f} within cluster ')"
   ]
  },
  {
   "cell_type": "markdown",
   "metadata": {},
   "source": [
    "## Figure 15.5"
   ]
  },
  {
   "cell_type": "code",
   "execution_count": 14,
   "metadata": {
    "execution": {
     "iopub.execute_input": "2021-05-27T20:03:30.661207Z",
     "iopub.status.busy": "2021-05-27T20:03:30.660767Z",
     "iopub.status.idle": "2021-05-27T20:03:30.941905Z",
     "shell.execute_reply": "2021-05-27T20:03:30.941401Z"
    }
   },
   "outputs": [
    {
     "data": {
      "text/html": [
       "<div>\n",
       "<style scoped>\n",
       "    .dataframe tbody tr th:only-of-type {\n",
       "        vertical-align: middle;\n",
       "    }\n",
       "\n",
       "    .dataframe tbody tr th {\n",
       "        vertical-align: top;\n",
       "    }\n",
       "\n",
       "    .dataframe thead th {\n",
       "        text-align: right;\n",
       "    }\n",
       "</style>\n",
       "<table border=\"1\" class=\"dataframe\">\n",
       "  <thead>\n",
       "    <tr style=\"text-align: right;\">\n",
       "      <th></th>\n",
       "      <th>Fixed_charge</th>\n",
       "      <th>RoR</th>\n",
       "      <th>Cost</th>\n",
       "      <th>Load_factor</th>\n",
       "      <th>Demand_growth</th>\n",
       "      <th>Sales</th>\n",
       "      <th>Nuclear</th>\n",
       "      <th>Fuel_Cost</th>\n",
       "      <th>cluster</th>\n",
       "    </tr>\n",
       "  </thead>\n",
       "  <tbody>\n",
       "    <tr>\n",
       "      <th>0</th>\n",
       "      <td>-0.011599</td>\n",
       "      <td>0.339180</td>\n",
       "      <td>0.224086</td>\n",
       "      <td>-0.366466</td>\n",
       "      <td>0.170386</td>\n",
       "      <td>-0.411331</td>\n",
       "      <td>1.601868</td>\n",
       "      <td>-0.609460</td>\n",
       "      <td>Cluster 0</td>\n",
       "    </tr>\n",
       "    <tr>\n",
       "      <th>1</th>\n",
       "      <td>-0.632893</td>\n",
       "      <td>-0.639936</td>\n",
       "      <td>0.206692</td>\n",
       "      <td>1.175321</td>\n",
       "      <td>0.057691</td>\n",
       "      <td>-0.757719</td>\n",
       "      <td>-0.380962</td>\n",
       "      <td>1.203616</td>\n",
       "      <td>Cluster 1</td>\n",
       "    </tr>\n",
       "    <tr>\n",
       "      <th>2</th>\n",
       "      <td>0.516184</td>\n",
       "      <td>0.797896</td>\n",
       "      <td>-1.009097</td>\n",
       "      <td>-0.345490</td>\n",
       "      <td>-0.501098</td>\n",
       "      <td>0.360140</td>\n",
       "      <td>-0.535523</td>\n",
       "      <td>-0.420198</td>\n",
       "      <td>Cluster 2</td>\n",
       "    </tr>\n",
       "    <tr>\n",
       "      <th>3</th>\n",
       "      <td>2.085268</td>\n",
       "      <td>-0.883194</td>\n",
       "      <td>0.591840</td>\n",
       "      <td>-1.325495</td>\n",
       "      <td>-0.735555</td>\n",
       "      <td>-1.618644</td>\n",
       "      <td>0.219434</td>\n",
       "      <td>1.732470</td>\n",
       "      <td>Cluster 3</td>\n",
       "    </tr>\n",
       "    <tr>\n",
       "      <th>4</th>\n",
       "      <td>-2.019709</td>\n",
       "      <td>-1.476137</td>\n",
       "      <td>0.119723</td>\n",
       "      <td>-1.256665</td>\n",
       "      <td>1.069762</td>\n",
       "      <td>2.458495</td>\n",
       "      <td>-0.731447</td>\n",
       "      <td>-0.616086</td>\n",
       "      <td>Cluster 4</td>\n",
       "    </tr>\n",
       "    <tr>\n",
       "      <th>5</th>\n",
       "      <td>0.088252</td>\n",
       "      <td>-0.541112</td>\n",
       "      <td>1.995766</td>\n",
       "      <td>-0.109502</td>\n",
       "      <td>0.987702</td>\n",
       "      <td>1.621068</td>\n",
       "      <td>-0.731447</td>\n",
       "      <td>-1.174696</td>\n",
       "      <td>Cluster 5</td>\n",
       "    </tr>\n",
       "  </tbody>\n",
       "</table>\n",
       "</div>"
      ],
      "text/plain": [
       "   Fixed_charge       RoR      Cost  Load_factor  Demand_growth     Sales  \\\n",
       "0     -0.011599  0.339180  0.224086    -0.366466       0.170386 -0.411331   \n",
       "1     -0.632893 -0.639936  0.206692     1.175321       0.057691 -0.757719   \n",
       "2      0.516184  0.797896 -1.009097    -0.345490      -0.501098  0.360140   \n",
       "3      2.085268 -0.883194  0.591840    -1.325495      -0.735555 -1.618644   \n",
       "4     -2.019709 -1.476137  0.119723    -1.256665       1.069762  2.458495   \n",
       "5      0.088252 -0.541112  1.995766    -0.109502       0.987702  1.621068   \n",
       "\n",
       "    Nuclear  Fuel_Cost    cluster  \n",
       "0  1.601868  -0.609460  Cluster 0  \n",
       "1 -0.380962   1.203616  Cluster 1  \n",
       "2 -0.535523  -0.420198  Cluster 2  \n",
       "3  0.219434   1.732470  Cluster 3  \n",
       "4 -0.731447  -0.616086  Cluster 4  \n",
       "5 -0.731447  -1.174696  Cluster 5  "
      ]
     },
     "execution_count": 1,
     "metadata": {},
     "output_type": "execute_result"
    },
    {
     "data": {
      "image/png": "[encoded data removed]",
      "text/plain": [
       "<Figure size 720x432 with 1 Axes>"
      ]
     },
     "metadata": {
      "needs_background": "light"
     },
     "output_type": "display_data"
    }
   ],
   "source": [
    "centroids['cluster'] = ['Cluster {}'.format(i) for i in centroids.index]\n",
    "\n",
    "plt.figure(figsize=(10,6))\n",
    "fig.subplots_adjust(right=3)\n",
    "ax = parallel_coordinates(centroids, class_column='cluster', colormap='Dark2', linewidth=5)\n",
    "plt.legend(loc='center left', bbox_to_anchor=(0.95, 0.5))\n",
    "plt.xlim(-0.5,7.5)\n",
    "centroids"
   ]
  },
  {
   "cell_type": "code",
   "execution_count": 15,
   "metadata": {
    "execution": {
     "iopub.execute_input": "2021-05-27T20:03:30.945873Z",
     "iopub.status.busy": "2021-05-27T20:03:30.945401Z",
     "iopub.status.idle": "2021-05-27T20:03:30.956754Z",
     "shell.execute_reply": "2021-05-27T20:03:30.956248Z"
    }
   },
   "outputs": [
    {
     "data": {
      "text/html": [
       "<div>\n",
       "<style scoped>\n",
       "    .dataframe tbody tr th:only-of-type {\n",
       "        vertical-align: middle;\n",
       "    }\n",
       "\n",
       "    .dataframe tbody tr th {\n",
       "        vertical-align: top;\n",
       "    }\n",
       "\n",
       "    .dataframe thead th {\n",
       "        text-align: right;\n",
       "    }\n",
       "</style>\n",
       "<table border=\"1\" class=\"dataframe\">\n",
       "  <thead>\n",
       "    <tr style=\"text-align: right;\">\n",
       "      <th></th>\n",
       "      <th>Fixed_charge</th>\n",
       "      <th>RoR</th>\n",
       "      <th>Cost</th>\n",
       "      <th>Load_factor</th>\n",
       "      <th>Demand_growth</th>\n",
       "      <th>Sales</th>\n",
       "      <th>Nuclear</th>\n",
       "      <th>Fuel_Cost</th>\n",
       "    </tr>\n",
       "  </thead>\n",
       "  <tbody>\n",
       "    <tr>\n",
       "      <th>0</th>\n",
       "      <td>-0.011599</td>\n",
       "      <td>0.339180</td>\n",
       "      <td>0.224086</td>\n",
       "      <td>-0.366466</td>\n",
       "      <td>0.170386</td>\n",
       "      <td>-0.411331</td>\n",
       "      <td>1.601868</td>\n",
       "      <td>-0.609460</td>\n",
       "    </tr>\n",
       "    <tr>\n",
       "      <th>1</th>\n",
       "      <td>-0.632893</td>\n",
       "      <td>-0.639936</td>\n",
       "      <td>0.206692</td>\n",
       "      <td>1.175321</td>\n",
       "      <td>0.057691</td>\n",
       "      <td>-0.757719</td>\n",
       "      <td>-0.380962</td>\n",
       "      <td>1.203616</td>\n",
       "    </tr>\n",
       "    <tr>\n",
       "      <th>2</th>\n",
       "      <td>0.516184</td>\n",
       "      <td>0.797896</td>\n",
       "      <td>-1.009097</td>\n",
       "      <td>-0.345490</td>\n",
       "      <td>-0.501098</td>\n",
       "      <td>0.360140</td>\n",
       "      <td>-0.535523</td>\n",
       "      <td>-0.420198</td>\n",
       "    </tr>\n",
       "    <tr>\n",
       "      <th>3</th>\n",
       "      <td>2.085268</td>\n",
       "      <td>-0.883194</td>\n",
       "      <td>0.591840</td>\n",
       "      <td>-1.325495</td>\n",
       "      <td>-0.735555</td>\n",
       "      <td>-1.618644</td>\n",
       "      <td>0.219434</td>\n",
       "      <td>1.732470</td>\n",
       "    </tr>\n",
       "    <tr>\n",
       "      <th>4</th>\n",
       "      <td>-2.019709</td>\n",
       "      <td>-1.476137</td>\n",
       "      <td>0.119723</td>\n",
       "      <td>-1.256665</td>\n",
       "      <td>1.069762</td>\n",
       "      <td>2.458495</td>\n",
       "      <td>-0.731447</td>\n",
       "      <td>-0.616086</td>\n",
       "    </tr>\n",
       "    <tr>\n",
       "      <th>5</th>\n",
       "      <td>0.088252</td>\n",
       "      <td>-0.541112</td>\n",
       "      <td>1.995766</td>\n",
       "      <td>-0.109502</td>\n",
       "      <td>0.987702</td>\n",
       "      <td>1.621068</td>\n",
       "      <td>-0.731447</td>\n",
       "      <td>-1.174696</td>\n",
       "    </tr>\n",
       "  </tbody>\n",
       "</table>\n",
       "</div>"
      ],
      "text/plain": [
       "   Fixed_charge       RoR      Cost  Load_factor  Demand_growth     Sales  \\\n",
       "0     -0.011599  0.339180  0.224086    -0.366466       0.170386 -0.411331   \n",
       "1     -0.632893 -0.639936  0.206692     1.175321       0.057691 -0.757719   \n",
       "2      0.516184  0.797896 -1.009097    -0.345490      -0.501098  0.360140   \n",
       "3      2.085268 -0.883194  0.591840    -1.325495      -0.735555 -1.618644   \n",
       "4     -2.019709 -1.476137  0.119723    -1.256665       1.069762  2.458495   \n",
       "5      0.088252 -0.541112  1.995766    -0.109502       0.987702  1.621068   \n",
       "\n",
       "    Nuclear  Fuel_Cost  \n",
       "0  1.601868  -0.609460  \n",
       "1 -0.380962   1.203616  \n",
       "2 -0.535523  -0.420198  \n",
       "3  0.219434   1.732470  \n",
       "4 -0.731447  -0.616086  \n",
       "5 -0.731447  -1.174696  "
      ]
     },
     "execution_count": 1,
     "metadata": {},
     "output_type": "execute_result"
    }
   ],
   "source": [
    "utilities_df_norm.groupby(kmeans.labels_).mean()"
   ]
  },
  {
   "cell_type": "markdown",
   "metadata": {},
   "source": [
    "## Table 15.11"
   ]
  },
  {
   "cell_type": "code",
   "execution_count": 16,
   "metadata": {
    "execution": {
     "iopub.execute_input": "2021-05-27T20:03:30.963639Z",
     "iopub.status.busy": "2021-05-27T20:03:30.963157Z",
     "iopub.status.idle": "2021-05-27T20:03:30.966277Z",
     "shell.execute_reply": "2021-05-27T20:03:30.965832Z"
    }
   },
   "outputs": [
    {
     "name": "stdout",
     "output_type": "stream",
     "text": [
      "          0         1         2         3         4         5\n",
      "0  0.000000  3.327706  2.767756  4.076778  4.756091  3.814743\n",
      "1  3.327706  0.000000  3.376575  3.982534  4.831882  4.205250\n",
      "2  2.767756  3.376575  0.000000  4.240989  4.544657  3.933837\n",
      "3  4.076778  3.982534  4.240989  0.000000  6.613030  5.511431\n",
      "4  4.756091  4.831882  4.544657  6.613030  0.000000  3.342656\n",
      "5  3.814743  4.205250  3.933837  5.511431  3.342656  0.000000\n"
     ]
    }
   ],
   "source": [
    "print(pd.DataFrame(pairwise.pairwise_distances(kmeans.cluster_centers_, metric='euclidean')))"
   ]
  },
  {
   "cell_type": "code",
   "execution_count": 17,
   "metadata": {
    "execution": {
     "iopub.execute_input": "2021-05-27T20:03:30.971471Z",
     "iopub.status.busy": "2021-05-27T20:03:30.971016Z",
     "iopub.status.idle": "2021-05-27T20:03:30.974882Z",
     "shell.execute_reply": "2021-05-27T20:03:30.974432Z"
    }
   },
   "outputs": [
    {
     "data": {
      "text/plain": [
       "0    18.743074\n",
       "1    19.723946\n",
       "2    18.863814\n",
       "3    24.424763\n",
       "4    24.088316\n",
       "5    20.807918\n",
       "dtype: float64"
      ]
     },
     "execution_count": 1,
     "metadata": {},
     "output_type": "execute_result"
    }
   ],
   "source": [
    "pd.DataFrame(pairwise.pairwise_distances(kmeans.cluster_centers_, metric='euclidean')).sum(axis=0)"
   ]
  },
  {
   "cell_type": "markdown",
   "metadata": {},
   "source": [
    "## Figure 15.6"
   ]
  },
  {
   "cell_type": "code",
   "execution_count": 18,
   "metadata": {
    "execution": {
     "iopub.execute_input": "2021-05-27T20:03:30.981106Z",
     "iopub.status.busy": "2021-05-27T20:03:30.980665Z",
     "iopub.status.idle": "2021-05-27T20:03:31.310080Z",
     "shell.execute_reply": "2021-05-27T20:03:31.309621Z"
    }
   },
   "outputs": [
    {
     "data": {
      "image/png": "[encoded data removed]",
      "text/plain": [
       "<Figure size 432x288 with 1 Axes>"
      ]
     },
     "metadata": {
      "needs_background": "light"
     },
     "output_type": "display_data"
    }
   ],
   "source": [
    "inertia = []\n",
    "for n_clusters in range(1, 7):\n",
    "    kmeans = KMeans(n_clusters=n_clusters, random_state=0).fit(utilities_df_norm)\n",
    "    inertia.append(kmeans.inertia_ / n_clusters)\n",
    "inertias = pd.DataFrame({'n_clusters': range(1, 7), 'inertia': inertia})\n",
    "ax = inertias.plot(x='n_clusters', y='inertia')\n",
    "plt.xlabel('Number of clusters(k)')\n",
    "plt.ylabel('Average Within-Cluster Squared Distances')\n",
    "plt.ylim((0, 1.1 * inertias.inertia.max()))\n",
    "ax.legend().set_visible(False)\n",
    "plt.show()"
   ]
  },
  {
   "cell_type": "code",
   "execution_count": null,
   "metadata": {},
   "outputs": [],
   "source": []
  }
 ],
 "metadata": {
  "kernelspec": {
   "display_name": "Python 3 (ipykernel)",
   "language": "python",
   "name": "python3"
  },
  "language_info": {
   "codemirror_mode": {
    "name": "ipython",
    "version": 3
   },
   "file_extension": ".py",
   "mimetype": "text/x-python",
   "name": "python",
   "nbconvert_exporter": "python",
   "pygments_lexer": "ipython3",
   "version": "3.9.7"
  }
 },
 "nbformat": 4,
 "nbformat_minor": 2
}
