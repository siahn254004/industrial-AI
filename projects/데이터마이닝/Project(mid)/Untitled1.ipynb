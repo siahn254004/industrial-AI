{
 "cells": [
  {
   "cell_type": "code",
   "execution_count": 6,
   "id": "b9ffcce9",
   "metadata": {},
   "outputs": [],
   "source": [
    "import pandas as pd\n",
    "import numpy as np\n",
    "import seaborn as sns\n",
    "import matplotlib.pyplot as plt\n",
    "from sklearn.model_selection import train_test_split\n",
    "from sklearn.linear_model import LinearRegression\n",
    "\n",
    "# 데이터셋 불러오기\n",
    "df = pd.read_csv('Tayko.csv')\n",
    "\n",
    "# 독립 변수와 종속 변수로 분리하기\n",
    "X = df[['US', 'Freq', 'last_update_days_ago', 'Web order', 'Gender=male', 'Address_is_res']]\n",
    "y = df['Spending']\n",
    "\n",
    "# 학습 데이터와 검증 데이터로 분리하기\n",
    "X_train, X_test, y_train, y_test = train_test_split(X, y, test_size=0.2, random_state=42)"
   ]
  },
  {
   "cell_type": "code",
   "execution_count": 7,
   "id": "da26f0a7",
   "metadata": {},
   "outputs": [
    {
     "name": "stdout",
     "output_type": "stream",
     "text": [
      "                            OLS Regression Results                            \n",
      "==============================================================================\n",
      "Dep. Variable:               Spending   R-squared:                       0.507\n",
      "Model:                            OLS   Adj. R-squared:                  0.505\n",
      "Method:                 Least Squares   F-statistic:                     273.1\n",
      "Date:                Mon, 17 Apr 2023   Prob (F-statistic):          1.78e-240\n",
      "Time:                        16:48:07   Log-Likelihood:                -10057.\n",
      "No. Observations:                1600   AIC:                         2.013e+04\n",
      "Df Residuals:                    1593   BIC:                         2.017e+04\n",
      "Df Model:                           6                                         \n",
      "Covariance Type:            nonrobust                                         \n",
      "========================================================================================\n",
      "                           coef    std err          t      P>|t|      [0.025      0.975]\n",
      "----------------------------------------------------------------------------------------\n",
      "const                    3.6233     12.112      0.299      0.765     -20.134      27.381\n",
      "US                      -3.9711      8.630     -0.460      0.645     -20.898      12.956\n",
      "Freq                    90.9645      2.473     36.784      0.000      86.114      95.815\n",
      "last_update_days_ago    -0.0084      0.003     -2.724      0.007      -0.014      -0.002\n",
      "Web order               19.7485      6.654      2.968      0.003       6.696      32.801\n",
      "Gender=male              2.4373      6.530      0.373      0.709     -10.370      15.245\n",
      "Address_is_res         -84.2546      8.106    -10.394      0.000    -100.154     -68.355\n",
      "==============================================================================\n",
      "Omnibus:                     1315.442   Durbin-Watson:                   2.050\n",
      "Prob(Omnibus):                  0.000   Jarque-Bera (JB):            49627.019\n",
      "Skew:                           3.584   Prob(JB):                         0.00\n",
      "Kurtosis:                      29.325   Cond. No.                     1.02e+04\n",
      "==============================================================================\n",
      "\n",
      "Notes:\n",
      "[1] Standard Errors assume that the covariance matrix of the errors is correctly specified.\n",
      "[2] The condition number is large, 1.02e+04. This might indicate that there are\n",
      "strong multicollinearity or other numerical problems.\n"
     ]
    },
    {
     "name": "stderr",
     "output_type": "stream",
     "text": [
      "C:\\Users\\user\\anaconda3\\lib\\site-packages\\statsmodels\\tsa\\tsatools.py:142: FutureWarning: In a future version of pandas all arguments of concat except for the argument 'objs' will be keyword-only\n",
      "  x = pd.concat(x[::order], 1)\n"
     ]
    }
   ],
   "source": [
    "import statsmodels.api as sm\n",
    "\n",
    "# 다중 선형회귀 모델 만들기\n",
    "model = sm.OLS(y_train, sm.add_constant(X_train)).fit()\n",
    "\n",
    "# 추정된 회귀모델식 출력하기\n",
    "print(model.summary())\n"
   ]
  },
  {
   "cell_type": "code",
   "execution_count": null,
   "id": "5f96742b",
   "metadata": {},
   "outputs": [],
   "source": []
  },
  {
   "cell_type": "code",
   "execution_count": 8,
   "id": "9469274d",
   "metadata": {
    "scrolled": true
   },
   "outputs": [
    {
     "name": "stderr",
     "output_type": "stream",
     "text": [
      "C:\\Users\\user\\anaconda3\\lib\\site-packages\\statsmodels\\tsa\\tsatools.py:142: FutureWarning: In a future version of pandas all arguments of concat except for the argument 'objs' will be keyword-only\n",
      "  x = pd.concat(x[::order], 1)\n"
     ]
    },
    {
     "ename": "ValueError",
     "evalue": "shapes (6,2) and (7,) not aligned: 2 (dim 1) != 7 (dim 0)",
     "output_type": "error",
     "traceback": [
      "\u001b[1;31m---------------------------------------------------------------------------\u001b[0m",
      "\u001b[1;31mValueError\u001b[0m                                Traceback (most recent call last)",
      "\u001b[1;32m~\\AppData\\Local\\Temp/ipykernel_15812/1590645890.py\u001b[0m in \u001b[0;36m<module>\u001b[1;34m\u001b[0m\n\u001b[0;32m      1\u001b[0m \u001b[1;31m# 첫 번째 검증 데이터의 예측 값과 예측 오차 계산하기\u001b[0m\u001b[1;33m\u001b[0m\u001b[1;33m\u001b[0m\u001b[0m\n\u001b[1;32m----> 2\u001b[1;33m \u001b[0my_pred\u001b[0m \u001b[1;33m=\u001b[0m \u001b[0mmodel\u001b[0m\u001b[1;33m.\u001b[0m\u001b[0mpredict\u001b[0m\u001b[1;33m(\u001b[0m\u001b[0msm\u001b[0m\u001b[1;33m.\u001b[0m\u001b[0madd_constant\u001b[0m\u001b[1;33m(\u001b[0m\u001b[0mX_test\u001b[0m\u001b[1;33m.\u001b[0m\u001b[0miloc\u001b[0m\u001b[1;33m[\u001b[0m\u001b[1;36m0\u001b[0m\u001b[1;33m]\u001b[0m\u001b[1;33m)\u001b[0m\u001b[1;33m)\u001b[0m\u001b[1;33m\u001b[0m\u001b[1;33m\u001b[0m\u001b[0m\n\u001b[0m\u001b[0;32m      3\u001b[0m \u001b[0merror\u001b[0m \u001b[1;33m=\u001b[0m \u001b[0my_test\u001b[0m\u001b[1;33m.\u001b[0m\u001b[0miloc\u001b[0m\u001b[1;33m[\u001b[0m\u001b[1;36m0\u001b[0m\u001b[1;33m]\u001b[0m \u001b[1;33m-\u001b[0m \u001b[0my_pred\u001b[0m\u001b[1;33m\u001b[0m\u001b[1;33m\u001b[0m\u001b[0m\n\u001b[0;32m      4\u001b[0m \u001b[1;33m\u001b[0m\u001b[0m\n\u001b[0;32m      5\u001b[0m \u001b[0mprint\u001b[0m\u001b[1;33m(\u001b[0m\u001b[1;34m'예측 값:'\u001b[0m\u001b[1;33m,\u001b[0m \u001b[0my_pred\u001b[0m\u001b[1;33m)\u001b[0m\u001b[1;33m\u001b[0m\u001b[1;33m\u001b[0m\u001b[0m\n",
      "\u001b[1;32m~\\anaconda3\\lib\\site-packages\\statsmodels\\base\\model.py\u001b[0m in \u001b[0;36mpredict\u001b[1;34m(self, exog, transform, *args, **kwargs)\u001b[0m\n\u001b[0;32m   1097\u001b[0m             \u001b[0mexog\u001b[0m \u001b[1;33m=\u001b[0m \u001b[0mnp\u001b[0m\u001b[1;33m.\u001b[0m\u001b[0matleast_2d\u001b[0m\u001b[1;33m(\u001b[0m\u001b[0mexog\u001b[0m\u001b[1;33m)\u001b[0m  \u001b[1;31m# needed in count model shape[1]\u001b[0m\u001b[1;33m\u001b[0m\u001b[1;33m\u001b[0m\u001b[0m\n\u001b[0;32m   1098\u001b[0m \u001b[1;33m\u001b[0m\u001b[0m\n\u001b[1;32m-> 1099\u001b[1;33m         predict_results = self.model.predict(self.params, exog, *args,\n\u001b[0m\u001b[0;32m   1100\u001b[0m                                              **kwargs)\n\u001b[0;32m   1101\u001b[0m \u001b[1;33m\u001b[0m\u001b[0m\n",
      "\u001b[1;32m~\\anaconda3\\lib\\site-packages\\statsmodels\\regression\\linear_model.py\u001b[0m in \u001b[0;36mpredict\u001b[1;34m(self, params, exog)\u001b[0m\n\u001b[0;32m    378\u001b[0m             \u001b[0mexog\u001b[0m \u001b[1;33m=\u001b[0m \u001b[0mself\u001b[0m\u001b[1;33m.\u001b[0m\u001b[0mexog\u001b[0m\u001b[1;33m\u001b[0m\u001b[1;33m\u001b[0m\u001b[0m\n\u001b[0;32m    379\u001b[0m \u001b[1;33m\u001b[0m\u001b[0m\n\u001b[1;32m--> 380\u001b[1;33m         \u001b[1;32mreturn\u001b[0m \u001b[0mnp\u001b[0m\u001b[1;33m.\u001b[0m\u001b[0mdot\u001b[0m\u001b[1;33m(\u001b[0m\u001b[0mexog\u001b[0m\u001b[1;33m,\u001b[0m \u001b[0mparams\u001b[0m\u001b[1;33m)\u001b[0m\u001b[1;33m\u001b[0m\u001b[1;33m\u001b[0m\u001b[0m\n\u001b[0m\u001b[0;32m    381\u001b[0m \u001b[1;33m\u001b[0m\u001b[0m\n\u001b[0;32m    382\u001b[0m     \u001b[1;32mdef\u001b[0m \u001b[0mget_distribution\u001b[0m\u001b[1;33m(\u001b[0m\u001b[0mself\u001b[0m\u001b[1;33m,\u001b[0m \u001b[0mparams\u001b[0m\u001b[1;33m,\u001b[0m \u001b[0mscale\u001b[0m\u001b[1;33m,\u001b[0m \u001b[0mexog\u001b[0m\u001b[1;33m=\u001b[0m\u001b[1;32mNone\u001b[0m\u001b[1;33m,\u001b[0m \u001b[0mdist_class\u001b[0m\u001b[1;33m=\u001b[0m\u001b[1;32mNone\u001b[0m\u001b[1;33m)\u001b[0m\u001b[1;33m:\u001b[0m\u001b[1;33m\u001b[0m\u001b[1;33m\u001b[0m\u001b[0m\n",
      "\u001b[1;32m<__array_function__ internals>\u001b[0m in \u001b[0;36mdot\u001b[1;34m(*args, **kwargs)\u001b[0m\n",
      "\u001b[1;31mValueError\u001b[0m: shapes (6,2) and (7,) not aligned: 2 (dim 1) != 7 (dim 0)"
     ]
    }
   ],
   "source": [
    "# 첫 번째 검증 데이터의 예측 값과 예측 오차 계산하기\n",
    "y_pred = model.predict(sm.add_constant(X_test.iloc[0]))\n",
    "error = y_test.iloc[0] - y_pred\n",
    "\n",
    "print('예측 값:', y_pred)\n",
    "print('실제 값:', y_test.iloc[0])\n",
    "print('예측 오차:', error)\n"
   ]
  },
  {
   "cell_type": "code",
   "execution_count": null,
   "id": "aea6a767",
   "metadata": {},
   "outputs": [],
   "source": []
  },
  {
   "cell_type": "code",
   "execution_count": null,
   "id": "3d1e44c2",
   "metadata": {},
   "outputs": [],
   "source": []
  },
  {
   "cell_type": "code",
   "execution_count": null,
   "id": "1094b897",
   "metadata": {},
   "outputs": [],
   "source": []
  },
  {
   "cell_type": "code",
   "execution_count": null,
   "id": "5be7ebf6",
   "metadata": {},
   "outputs": [],
   "source": []
  },
  {
   "cell_type": "code",
   "execution_count": 9,
   "id": "b96bc176",
   "metadata": {},
   "outputs": [
    {
     "name": "stdout",
     "output_type": "stream",
     "text": [
      "                            OLS Regression Results                            \n",
      "==============================================================================\n",
      "Dep. Variable:               Spending   R-squared:                       0.594\n",
      "Model:                            OLS   Adj. R-squared:                  0.587\n",
      "Method:                 Least Squares   F-statistic:                     83.83\n",
      "Date:                Mon, 17 Apr 2023   Prob (F-statistic):          1.03e-248\n",
      "Time:                        16:52:16   Log-Likelihood:                -8694.7\n",
      "No. Observations:                1400   AIC:                         1.744e+04\n",
      "Df Residuals:                    1375   BIC:                         1.757e+04\n",
      "Df Model:                          24                                         \n",
      "Covariance Type:            nonrobust                                         \n",
      "========================================================================================\n",
      "                           coef    std err          t      P>|t|      [0.025      0.975]\n",
      "----------------------------------------------------------------------------------------\n",
      "const                    1.2029     21.370      0.056      0.955     -40.719      43.125\n",
      "sequence_number         -0.0017      0.006     -0.299      0.765      -0.013       0.010\n",
      "US                      -1.4241      9.045     -0.157      0.875     -19.167      16.319\n",
      "source_a                 5.0806     18.649      0.272      0.785     -31.503      41.665\n",
      "source_c               -56.0320     21.419     -2.616      0.009     -98.050     -14.014\n",
      "source_b               -18.5260     20.233     -0.916      0.360     -58.217      21.165\n",
      "source_d               -51.9389     22.417     -2.317      0.021     -95.915      -7.963\n",
      "source_e               -24.1574     17.463     -1.383      0.167     -58.414      10.099\n",
      "source_m               -43.5942     30.394     -1.434      0.152    -103.218      16.029\n",
      "source_o                 8.1690     24.202      0.338      0.736     -39.307      55.645\n",
      "source_h               -81.2914     23.422     -3.471      0.001    -127.237     -35.346\n",
      "source_r                11.6061     20.077      0.578      0.563     -27.779      50.992\n",
      "source_s               -29.5682     21.914     -1.349      0.177     -72.557      13.421\n",
      "source_t               -30.4625     27.475     -1.109      0.268     -84.360      23.435\n",
      "source_u                -8.1549     18.528     -0.440      0.660     -44.502      28.192\n",
      "source_p               -69.0929     43.960     -1.572      0.116    -155.328      17.142\n",
      "source_x               -21.7772     28.508     -0.764      0.445     -77.700      34.146\n",
      "source_w               -11.2164     19.421     -0.578      0.564     -49.315      26.882\n",
      "Freq                    76.6380      3.535     21.677      0.000      69.703      83.573\n",
      "last_update_days_ago    -0.0170      0.007     -2.494      0.013      -0.030      -0.004\n",
      "1st_update_days_ago      0.0093      0.007      1.249      0.212      -0.005       0.024\n",
      "Web order               -1.6944      6.867     -0.247      0.805     -15.166      11.777\n",
      "Gender=male             -1.4736      6.556     -0.225      0.822     -14.335      11.388\n",
      "Address_is_res         -65.6107      8.952     -7.329      0.000     -83.172     -48.049\n",
      "Purchase                86.1462      8.131     10.595      0.000      70.195     102.097\n",
      "==============================================================================\n",
      "Omnibus:                     1233.385   Durbin-Watson:                   2.052\n",
      "Prob(Omnibus):                  0.000   Jarque-Bera (JB):            59402.005\n",
      "Skew:                           3.879   Prob(JB):                         0.00\n",
      "Kurtosis:                      33.954   Cond. No.                     7.43e+04\n",
      "==============================================================================\n",
      "\n",
      "Notes:\n",
      "[1] Standard Errors assume that the covariance matrix of the errors is correctly specified.\n",
      "[2] The condition number is large, 7.43e+04. This might indicate that there are\n",
      "strong multicollinearity or other numerical problems.\n",
      "sequence_number         1000.5000\n",
      "US                         0.8245\n",
      "source_a                   0.1265\n",
      "source_c                   0.0560\n",
      "source_b                   0.0600\n",
      "source_d                   0.0415\n",
      "source_e                   0.1510\n",
      "source_m                   0.0165\n",
      "source_o                   0.0335\n",
      "source_h                   0.0525\n",
      "source_r                   0.0685\n",
      "source_s                   0.0470\n",
      "source_t                   0.0215\n",
      "source_u                   0.1190\n",
      "source_p                   0.0060\n",
      "source_x                   0.0180\n",
      "source_w                   0.1375\n",
      "Freq                       1.4170\n",
      "last_update_days_ago    2155.1010\n",
      "1st_update_days_ago     2435.6015\n",
      "Web order                  0.4260\n",
      "Gender=male                0.5245\n",
      "Address_is_res             0.2210\n",
      "Purchase                   0.5000\n",
      "const                      1.0000\n",
      "dtype: float64\n"
     ]
    },
    {
     "ename": "ValueError",
     "evalue": "Length of values (1) does not match length of index (25)",
     "output_type": "error",
     "traceback": [
      "\u001b[1;31m---------------------------------------------------------------------------\u001b[0m",
      "\u001b[1;31mValueError\u001b[0m                                Traceback (most recent call last)",
      "\u001b[1;32m~\\AppData\\Local\\Temp/ipykernel_15812/1436551599.py\u001b[0m in \u001b[0;36m<module>\u001b[1;34m\u001b[0m\n\u001b[0;32m     22\u001b[0m \u001b[0mmean_values\u001b[0m\u001b[1;33m[\u001b[0m\u001b[1;34m'const'\u001b[0m\u001b[1;33m]\u001b[0m \u001b[1;33m=\u001b[0m \u001b[1;36m1\u001b[0m\u001b[1;33m\u001b[0m\u001b[1;33m\u001b[0m\u001b[0m\n\u001b[0;32m     23\u001b[0m \u001b[0mprint\u001b[0m\u001b[1;33m(\u001b[0m\u001b[0mmean_values\u001b[0m\u001b[1;33m)\u001b[0m\u001b[1;33m\u001b[0m\u001b[1;33m\u001b[0m\u001b[0m\n\u001b[1;32m---> 24\u001b[1;33m \u001b[0mprint\u001b[0m\u001b[1;33m(\u001b[0m\u001b[0mmodel\u001b[0m\u001b[1;33m.\u001b[0m\u001b[0mpredict\u001b[0m\u001b[1;33m(\u001b[0m\u001b[0mmean_values\u001b[0m\u001b[1;33m)\u001b[0m\u001b[1;33m)\u001b[0m\u001b[1;33m\u001b[0m\u001b[1;33m\u001b[0m\u001b[0m\n\u001b[0m\u001b[0;32m     25\u001b[0m \u001b[1;33m\u001b[0m\u001b[0m\n\u001b[0;32m     26\u001b[0m \u001b[1;31m# 4. 후진 제거법으로 변수 선택\u001b[0m\u001b[1;33m\u001b[0m\u001b[1;33m\u001b[0m\u001b[0m\n",
      "\u001b[1;32m~\\anaconda3\\lib\\site-packages\\statsmodels\\base\\model.py\u001b[0m in \u001b[0;36mpredict\u001b[1;34m(self, exog, transform, *args, **kwargs)\u001b[0m\n\u001b[0;32m   1103\u001b[0m                                                   'predicted_values'):\n\u001b[0;32m   1104\u001b[0m             \u001b[1;32mif\u001b[0m \u001b[0mpredict_results\u001b[0m\u001b[1;33m.\u001b[0m\u001b[0mndim\u001b[0m \u001b[1;33m==\u001b[0m \u001b[1;36m1\u001b[0m\u001b[1;33m:\u001b[0m\u001b[1;33m\u001b[0m\u001b[1;33m\u001b[0m\u001b[0m\n\u001b[1;32m-> 1105\u001b[1;33m                 \u001b[1;32mreturn\u001b[0m \u001b[0mpd\u001b[0m\u001b[1;33m.\u001b[0m\u001b[0mSeries\u001b[0m\u001b[1;33m(\u001b[0m\u001b[0mpredict_results\u001b[0m\u001b[1;33m,\u001b[0m \u001b[0mindex\u001b[0m\u001b[1;33m=\u001b[0m\u001b[0mexog_index\u001b[0m\u001b[1;33m)\u001b[0m\u001b[1;33m\u001b[0m\u001b[1;33m\u001b[0m\u001b[0m\n\u001b[0m\u001b[0;32m   1106\u001b[0m             \u001b[1;32melse\u001b[0m\u001b[1;33m:\u001b[0m\u001b[1;33m\u001b[0m\u001b[1;33m\u001b[0m\u001b[0m\n\u001b[0;32m   1107\u001b[0m                 \u001b[1;32mreturn\u001b[0m \u001b[0mpd\u001b[0m\u001b[1;33m.\u001b[0m\u001b[0mDataFrame\u001b[0m\u001b[1;33m(\u001b[0m\u001b[0mpredict_results\u001b[0m\u001b[1;33m,\u001b[0m \u001b[0mindex\u001b[0m\u001b[1;33m=\u001b[0m\u001b[0mexog_index\u001b[0m\u001b[1;33m)\u001b[0m\u001b[1;33m\u001b[0m\u001b[1;33m\u001b[0m\u001b[0m\n",
      "\u001b[1;32m~\\anaconda3\\lib\\site-packages\\pandas\\core\\series.py\u001b[0m in \u001b[0;36m__init__\u001b[1;34m(self, data, index, dtype, name, copy, fastpath)\u001b[0m\n\u001b[0;32m    428\u001b[0m                 \u001b[0mindex\u001b[0m \u001b[1;33m=\u001b[0m \u001b[0mibase\u001b[0m\u001b[1;33m.\u001b[0m\u001b[0mdefault_index\u001b[0m\u001b[1;33m(\u001b[0m\u001b[0mlen\u001b[0m\u001b[1;33m(\u001b[0m\u001b[0mdata\u001b[0m\u001b[1;33m)\u001b[0m\u001b[1;33m)\u001b[0m\u001b[1;33m\u001b[0m\u001b[1;33m\u001b[0m\u001b[0m\n\u001b[0;32m    429\u001b[0m             \u001b[1;32melif\u001b[0m \u001b[0mis_list_like\u001b[0m\u001b[1;33m(\u001b[0m\u001b[0mdata\u001b[0m\u001b[1;33m)\u001b[0m\u001b[1;33m:\u001b[0m\u001b[1;33m\u001b[0m\u001b[1;33m\u001b[0m\u001b[0m\n\u001b[1;32m--> 430\u001b[1;33m                 \u001b[0mcom\u001b[0m\u001b[1;33m.\u001b[0m\u001b[0mrequire_length_match\u001b[0m\u001b[1;33m(\u001b[0m\u001b[0mdata\u001b[0m\u001b[1;33m,\u001b[0m \u001b[0mindex\u001b[0m\u001b[1;33m)\u001b[0m\u001b[1;33m\u001b[0m\u001b[1;33m\u001b[0m\u001b[0m\n\u001b[0m\u001b[0;32m    431\u001b[0m \u001b[1;33m\u001b[0m\u001b[0m\n\u001b[0;32m    432\u001b[0m             \u001b[1;31m# create/copy the manager\u001b[0m\u001b[1;33m\u001b[0m\u001b[1;33m\u001b[0m\u001b[0m\n",
      "\u001b[1;32m~\\anaconda3\\lib\\site-packages\\pandas\\core\\common.py\u001b[0m in \u001b[0;36mrequire_length_match\u001b[1;34m(data, index)\u001b[0m\n\u001b[0;32m    529\u001b[0m     \"\"\"\n\u001b[0;32m    530\u001b[0m     \u001b[1;32mif\u001b[0m \u001b[0mlen\u001b[0m\u001b[1;33m(\u001b[0m\u001b[0mdata\u001b[0m\u001b[1;33m)\u001b[0m \u001b[1;33m!=\u001b[0m \u001b[0mlen\u001b[0m\u001b[1;33m(\u001b[0m\u001b[0mindex\u001b[0m\u001b[1;33m)\u001b[0m\u001b[1;33m:\u001b[0m\u001b[1;33m\u001b[0m\u001b[1;33m\u001b[0m\u001b[0m\n\u001b[1;32m--> 531\u001b[1;33m         raise ValueError(\n\u001b[0m\u001b[0;32m    532\u001b[0m             \u001b[1;34m\"Length of values \"\u001b[0m\u001b[1;33m\u001b[0m\u001b[1;33m\u001b[0m\u001b[0m\n\u001b[0;32m    533\u001b[0m             \u001b[1;34mf\"({len(data)}) \"\u001b[0m\u001b[1;33m\u001b[0m\u001b[1;33m\u001b[0m\u001b[0m\n",
      "\u001b[1;31mValueError\u001b[0m: Length of values (1) does not match length of index (25)"
     ]
    }
   ],
   "source": [
    "import pandas as pd\n",
    "import numpy as np\n",
    "import statsmodels.api as sm\n",
    "from sklearn.model_selection import train_test_split\n",
    "import matplotlib.pyplot as plt\n",
    "\n",
    "# 데이터 불러오기\n",
    "df = pd.read_csv('Tayko.csv')\n",
    "\n",
    "# 1. 학습 데이터와 검증 데이터로 분할\n",
    "train, test = train_test_split(df, test_size=0.3, random_state=42)\n",
    "\n",
    "# 2. 다중 선형 회귀 모델 적합\n",
    "X_train = train.drop(['Spending'], axis=1)\n",
    "y_train = train['Spending']\n",
    "X_train = sm.add_constant(X_train)\n",
    "model = sm.OLS(y_train, X_train).fit()\n",
    "print(model.summary())\n",
    "\n",
    "# 3. 예측값이 가장 높을 것으로 예상되는 고객 유형 확인\n",
    "mean_values = df.drop(['Spending'], axis=1).mean()\n",
    "mean_values['const'] = 1\n",
    "print(mean_values)\n",
    "print(model.predict(mean_values))\n",
    "\n",
    "# 4. 후진 제거법으로 변수 선택\n",
    "X_train = train.drop(['Spending'], axis=1)\n",
    "y_train = train['Spending']\n",
    "X_train = sm.add_constant(X_train)\n",
    "model = sm.OLS(y_train, X_train).fit()\n",
    "pvalues = model.pvalues\n",
    "while pvalues.max() > 0.05:\n",
    "    X_train = X_train.drop(pvalues.idxmax(), axis=1)\n",
    "    model = sm.OLS(y_train, X_train).fit()\n",
    "    pvalues = model.pvalues\n",
    "print(model.summary())\n",
    "\n",
    "# 5. 검증 데이터 첫 번째 구매 데이터를 이용하여 예측값과 예측 오차 계산\n",
    "X_test = test.drop(['Spending'], axis=1)\n",
    "X_test = sm.add_constant(X_test)\n",
    "y_test_pred = model.predict(X_test)\n",
    "y_test_true = test['Spending']\n",
    "test_error = y_test_true.iloc[0] - y_test_pred.iloc[0]\n",
    "print('Test error:', test_error)\n",
    "\n",
    "# 6. 검증 데이터에 대한 모델 성능 평가\n",
    "X_test = test.drop(['Spending'], axis=1)\n",
    "X_test = sm.add_constant(X_test)\n",
    "y_test_pred = model.predict(X_test)\n",
    "y_test_true = test['Spending']\n",
    "r2 = 1 - sum((y_test_true - y_test_pred)**2) / sum((y_test_true - y_test_true.mean())**2)\n",
    "print('R^2:', r2)\n",
    "\n",
    "# 7. 잔차 히스토그램 작성 및 정규분포 여부 확인\n",
    "residuals = model.resid\n",
    "plt.hist(residuals)\n",
    "plt.show()"
   ]
  }
 ],
 "metadata": {
  "kernelspec": {
   "display_name": "Python 3 (ipykernel)",
   "language": "python",
   "name": "python3"
  },
  "language_info": {
   "codemirror_mode": {
    "name": "ipython",
    "version": 3
   },
   "file_extension": ".py",
   "mimetype": "text/x-python",
   "name": "python",
   "nbconvert_exporter": "python",
   "pygments_lexer": "ipython3",
   "version": "3.9.7"
  }
 },
 "nbformat": 4,
 "nbformat_minor": 5
}
